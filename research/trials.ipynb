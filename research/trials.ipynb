{
 "cells": [
  {
   "cell_type": "code",
   "execution_count": 1,
   "id": "2c283c2a",
   "metadata": {},
   "outputs": [],
   "source": [
    "import os \n",
    "os.chdir(\"../\")"
   ]
  },
  {
   "cell_type": "markdown",
   "id": "7e4d3142",
   "metadata": {},
   "source": [
    "## Extract text from PDF"
   ]
  },
  {
   "cell_type": "code",
   "execution_count": 4,
   "id": "c6d80b47",
   "metadata": {},
   "outputs": [],
   "source": [
    "from langchain.document_loaders import PyPDFLoader, DirectoryLoader"
   ]
  },
  {
   "cell_type": "code",
   "execution_count": 5,
   "id": "ca4d0300",
   "metadata": {},
   "outputs": [],
   "source": [
    "def load_pdf_files(data):\n",
    "    loader = DirectoryLoader(\n",
    "        data,\n",
    "        glob=\"*.pdf\",\n",
    "        loader_cls=PyPDFLoader\n",
    "    )\n",
    "\n",
    "    documents = loader.load()\n",
    "    return documents"
   ]
  },
  {
   "cell_type": "code",
   "execution_count": 6,
   "id": "82db43d8",
   "metadata": {},
   "outputs": [],
   "source": [
    "extracted_data = load_pdf_files(\"data\")"
   ]
  },
  {
   "cell_type": "code",
   "execution_count": 8,
   "id": "da892668",
   "metadata": {},
   "outputs": [
    {
     "data": {
      "text/plain": [
       "[Document(metadata={'producer': 'PDFlib+PDI 5.0.0 (SunOS)', 'creator': 'PyPDF', 'creationdate': '2004-12-18T17:00:02-05:00', 'moddate': '2004-12-18T16:15:31-06:00', 'source': 'data\\\\Medical_book.pdf', 'total_pages': 637, 'page': 0, 'page_label': '1'}, page_content=''),\n",
       " Document(metadata={'producer': 'PDFlib+PDI 5.0.0 (SunOS)', 'creator': 'PyPDF', 'creationdate': '2004-12-18T17:00:02-05:00', 'moddate': '2004-12-18T16:15:31-06:00', 'source': 'data\\\\Medical_book.pdf', 'total_pages': 637, 'page': 1, 'page_label': '2'}, page_content='The GALE\\nENCYCLOPEDIA\\nof MEDICINE\\nSECOND EDITION'),\n",
       " Document(metadata={'producer': 'PDFlib+PDI 5.0.0 (SunOS)', 'creator': 'PyPDF', 'creationdate': '2004-12-18T17:00:02-05:00', 'moddate': '2004-12-18T16:15:31-06:00', 'source': 'data\\\\Medical_book.pdf', 'total_pages': 637, 'page': 2, 'page_label': '3'}, page_content='The GALE\\nENCYCLOPEDIA\\nof MEDICINE\\nSECOND EDITION\\nJACQUELINE L. LONGE, EDITOR\\nDEIRDRE S. BLANCHFIELD, ASSOCIATE EDITOR\\nVOLUME\\nA-B\\n1'),\n",
       " Document(metadata={'producer': 'PDFlib+PDI 5.0.0 (SunOS)', 'creator': 'PyPDF', 'creationdate': '2004-12-18T17:00:02-05:00', 'moddate': '2004-12-18T16:15:31-06:00', 'source': 'data\\\\Medical_book.pdf', 'total_pages': 637, 'page': 3, 'page_label': '4'}, page_content='STAFF\\nJacqueline L. Longe, Project Editor\\nDeirdre S. Blanchfield, Associate Editor\\nChristine B. Jeryan, Managing Editor\\nDonna Olendorf, Senior Editor\\nStacey Blachford, Associate Editor\\nKate Kretschmann, Melissa C. McDade, Ryan\\nThomason, Assistant Editors\\nMark Springer, Technical Specialist\\nAndrea Lopeman, Programmer/Analyst\\nBarbara J. Yarrow,Manager, Imaging and Multimedia\\nContent\\nRobyn V . Young,Project Manager, Imaging and\\nMultimedia Content\\nDean Dauphinais, Senior Editor, Imaging and\\nMultimedia Content\\nKelly A. Quin, Editor, Imaging and Multimedia Content\\nLeitha Etheridge-Sims, Mary K. Grimes, Dave Oblender,\\nImage Catalogers\\nPamela A. Reed, Imaging Coordinator\\nRandy Bassett, Imaging Supervisor\\nRobert Duncan, Senior Imaging Specialist\\nDan Newell, Imaging Specialist\\nChristine O’Bryan,Graphic Specialist\\nMaria Franklin, Permissions Manager\\nMargaret A. Chamberlain, Permissions Specialist\\nMichelle DiMercurio, Senior Art Director\\nMike Logusz, Graphic Artist\\nMary Beth Trimper,Manager, Composition and\\nElectronic Prepress\\nEvi Seoud, Assistant Manager, Composition Purchasing\\nand Electronic Prepress\\nDorothy Maki, Manufacturing Manager\\nWendy Blurton, Senior Manufacturing Specialist\\nThe GALE\\nENCYCLOPEDIA\\nof MEDICINE\\nSECOND EDITION\\nSince this page cannot legibly accommodate all copyright notices, the\\nacknowledgments constitute an extension of the copyright notice.\\nWhile every effort has been made to ensure the reliability of the infor-\\nmation presented in this publication, the Gale Group neither guarantees\\nthe accuracy of the data contained herein nor assumes any responsibili-\\nty for errors, omissions or discrepancies. The Gale Group accepts no\\npayment for listing, and inclusion in the publication of any organiza-\\ntion, agency, institution, publication, service, or individual does not\\nimply endorsement of the editor or publisher. Errors brought to the\\nattention of the publisher and verified to the satisfaction of the publish-\\ner will be corrected in future editions.\\nThis book is printed on recycled paper that meets Environmental Pro-\\ntection Agency standards.\\nThe paper used in this publication meets the minimum requirements of\\nAmerican National Standard for Information Sciences-Permanence\\nPaper for Printed Library Materials, ANSI Z39.48-1984.\\nThis publication is a creative work fully protected by all applicable\\ncopyright laws, as well as by misappropriation, trade secret, unfair com-\\npetition, and other applicable laws. The authors and editor of this work\\nhave added value to the underlying factual material herein through one\\nor more of the following: unique and original selection, coordination,\\nexpression, arrangement, and classification of the information.\\nGale Group and design is a trademark used herein under license.\\nAll rights to this publication will be vigorously defended.\\nCopyright © 2002\\nGale Group\\n27500 Drake Road\\nFarmington Hills, MI 48331-3535\\nAll rights reserved including the right of reproduction in whole or in\\npart in any form.\\nISBN 0-7876-5489-2 (set)\\n0-7876-5490-6 (V ol. 1)\\n0-7876-5491-4 (V ol. 2)\\n0-7876-5492-2 (V ol. 3)\\n0-7876-5493-0 (V ol. 4)\\n0-7876-5494-9 (V ol. 5)\\nPrinted in the United States of America\\n10 9 8 7 6 5 4 3 2 1\\nLibrary of Congress Cataloging-in-Publication Data\\nGale encyclopedia of medicine / Jacqueline L. Longe, editor;\\nDeirdre S. Blanchfield, associate editor — 2nd ed.\\np. cm.\\nIncludes bibliographical references and index.\\nContents: V ol. 1. A-B — v. 2. C-F — v. 3.\\nG-M — v. 4. N-S — v. 5. T-Z.\\nISBN 0-7876-5489-2 (set: hardcover) — ISBN 0-7876-5490-6\\n(vol. 1) — ISBN 0-7876-5491-4 (vol. 2) — ISBN 0-7876-5492-2\\n(vol. 3) — ISBN 0-7876-5493-0 (vol. 4) — ISBN 0-7876-5494-9\\n(vol. 5)\\n1. Internal medicine—Encyclopedias. I. Longe, Jacqueline L. \\nII. Blanchfield, Deirdre S. III. Gale Research Company.\\nRC41.G35 2001\\n616’.003—dc21\\n2001051245'),\n",
       " Document(metadata={'producer': 'PDFlib+PDI 5.0.0 (SunOS)', 'creator': 'PyPDF', 'creationdate': '2004-12-18T17:00:02-05:00', 'moddate': '2004-12-18T16:15:31-06:00', 'source': 'data\\\\Medical_book.pdf', 'total_pages': 637, 'page': 4, 'page_label': '5'}, page_content='Introduction.................................................... ix\\nAdvisory Board.............................................. xi\\nContributors ................................................. xiii\\nEntries\\nVolume 1: A-B.............................................. 1\\nVolume 2: C-F.......................................... 625\\nVolume 3: G-M....................................... 1375\\nVolume 4: N-S........................................ 2307\\nVolume 5: T-Z........................................ 3237\\nOrganizations ............................................ 3603\\nGeneral Index............................................ 3625\\nGALE ENCYCLOPEDIA OF MEDICINE 2 V\\nCONTENTS')]"
      ]
     },
     "execution_count": 8,
     "metadata": {},
     "output_type": "execute_result"
    }
   ],
   "source": [
    "extracted_data[:5]"
   ]
  },
  {
   "cell_type": "code",
   "execution_count": 9,
   "id": "a9824b87",
   "metadata": {},
   "outputs": [
    {
     "data": {
      "text/plain": [
       "637"
      ]
     },
     "execution_count": 9,
     "metadata": {},
     "output_type": "execute_result"
    }
   ],
   "source": [
    "len(extracted_data)"
   ]
  },
  {
   "cell_type": "markdown",
   "id": "bd09371a",
   "metadata": {},
   "source": [
    "## Remove unnecessary metadata"
   ]
  },
  {
   "cell_type": "code",
   "execution_count": 10,
   "id": "91d216e3",
   "metadata": {},
   "outputs": [],
   "source": [
    "from typing import List\n",
    "from langchain.schema import Document\n",
    "\n",
    "def extract_minimal_documents(documents: List[Document]) -> List[Document]:\n",
    "    \"\"\"\n",
    "    Accepts a list of Document objects and returns a new list containing\n",
    "    only the original content and its 'source' metadata.\n",
    "    \"\"\"\n",
    "    result: List[Document] = []\n",
    "    for doc in documents:\n",
    "        source = doc.metadata.get(\"source\")\n",
    "        simplified = Document(\n",
    "            page_content=doc.page_content,\n",
    "            metadata={\"source\": source}\n",
    "        )\n",
    "        result.append(simplified)\n",
    "    return result"
   ]
  },
  {
   "cell_type": "code",
   "execution_count": 11,
   "id": "0df59b32",
   "metadata": {},
   "outputs": [],
   "source": [
    "final_docs = extract_minimal_documents(extracted_data)"
   ]
  },
  {
   "cell_type": "code",
   "execution_count": 12,
   "id": "c4f264b3",
   "metadata": {},
   "outputs": [
    {
     "data": {
      "text/plain": [
       "[Document(metadata={'source': 'data\\\\Medical_book.pdf'}, page_content=''),\n",
       " Document(metadata={'source': 'data\\\\Medical_book.pdf'}, page_content='The GALE\\nENCYCLOPEDIA\\nof MEDICINE\\nSECOND EDITION'),\n",
       " Document(metadata={'source': 'data\\\\Medical_book.pdf'}, page_content='The GALE\\nENCYCLOPEDIA\\nof MEDICINE\\nSECOND EDITION\\nJACQUELINE L. LONGE, EDITOR\\nDEIRDRE S. BLANCHFIELD, ASSOCIATE EDITOR\\nVOLUME\\nA-B\\n1'),\n",
       " Document(metadata={'source': 'data\\\\Medical_book.pdf'}, page_content='STAFF\\nJacqueline L. Longe, Project Editor\\nDeirdre S. Blanchfield, Associate Editor\\nChristine B. Jeryan, Managing Editor\\nDonna Olendorf, Senior Editor\\nStacey Blachford, Associate Editor\\nKate Kretschmann, Melissa C. McDade, Ryan\\nThomason, Assistant Editors\\nMark Springer, Technical Specialist\\nAndrea Lopeman, Programmer/Analyst\\nBarbara J. Yarrow,Manager, Imaging and Multimedia\\nContent\\nRobyn V . Young,Project Manager, Imaging and\\nMultimedia Content\\nDean Dauphinais, Senior Editor, Imaging and\\nMultimedia Content\\nKelly A. Quin, Editor, Imaging and Multimedia Content\\nLeitha Etheridge-Sims, Mary K. Grimes, Dave Oblender,\\nImage Catalogers\\nPamela A. Reed, Imaging Coordinator\\nRandy Bassett, Imaging Supervisor\\nRobert Duncan, Senior Imaging Specialist\\nDan Newell, Imaging Specialist\\nChristine O’Bryan,Graphic Specialist\\nMaria Franklin, Permissions Manager\\nMargaret A. Chamberlain, Permissions Specialist\\nMichelle DiMercurio, Senior Art Director\\nMike Logusz, Graphic Artist\\nMary Beth Trimper,Manager, Composition and\\nElectronic Prepress\\nEvi Seoud, Assistant Manager, Composition Purchasing\\nand Electronic Prepress\\nDorothy Maki, Manufacturing Manager\\nWendy Blurton, Senior Manufacturing Specialist\\nThe GALE\\nENCYCLOPEDIA\\nof MEDICINE\\nSECOND EDITION\\nSince this page cannot legibly accommodate all copyright notices, the\\nacknowledgments constitute an extension of the copyright notice.\\nWhile every effort has been made to ensure the reliability of the infor-\\nmation presented in this publication, the Gale Group neither guarantees\\nthe accuracy of the data contained herein nor assumes any responsibili-\\nty for errors, omissions or discrepancies. The Gale Group accepts no\\npayment for listing, and inclusion in the publication of any organiza-\\ntion, agency, institution, publication, service, or individual does not\\nimply endorsement of the editor or publisher. Errors brought to the\\nattention of the publisher and verified to the satisfaction of the publish-\\ner will be corrected in future editions.\\nThis book is printed on recycled paper that meets Environmental Pro-\\ntection Agency standards.\\nThe paper used in this publication meets the minimum requirements of\\nAmerican National Standard for Information Sciences-Permanence\\nPaper for Printed Library Materials, ANSI Z39.48-1984.\\nThis publication is a creative work fully protected by all applicable\\ncopyright laws, as well as by misappropriation, trade secret, unfair com-\\npetition, and other applicable laws. The authors and editor of this work\\nhave added value to the underlying factual material herein through one\\nor more of the following: unique and original selection, coordination,\\nexpression, arrangement, and classification of the information.\\nGale Group and design is a trademark used herein under license.\\nAll rights to this publication will be vigorously defended.\\nCopyright © 2002\\nGale Group\\n27500 Drake Road\\nFarmington Hills, MI 48331-3535\\nAll rights reserved including the right of reproduction in whole or in\\npart in any form.\\nISBN 0-7876-5489-2 (set)\\n0-7876-5490-6 (V ol. 1)\\n0-7876-5491-4 (V ol. 2)\\n0-7876-5492-2 (V ol. 3)\\n0-7876-5493-0 (V ol. 4)\\n0-7876-5494-9 (V ol. 5)\\nPrinted in the United States of America\\n10 9 8 7 6 5 4 3 2 1\\nLibrary of Congress Cataloging-in-Publication Data\\nGale encyclopedia of medicine / Jacqueline L. Longe, editor;\\nDeirdre S. Blanchfield, associate editor — 2nd ed.\\np. cm.\\nIncludes bibliographical references and index.\\nContents: V ol. 1. A-B — v. 2. C-F — v. 3.\\nG-M — v. 4. N-S — v. 5. T-Z.\\nISBN 0-7876-5489-2 (set: hardcover) — ISBN 0-7876-5490-6\\n(vol. 1) — ISBN 0-7876-5491-4 (vol. 2) — ISBN 0-7876-5492-2\\n(vol. 3) — ISBN 0-7876-5493-0 (vol. 4) — ISBN 0-7876-5494-9\\n(vol. 5)\\n1. Internal medicine—Encyclopedias. I. Longe, Jacqueline L. \\nII. Blanchfield, Deirdre S. III. Gale Research Company.\\nRC41.G35 2001\\n616’.003—dc21\\n2001051245'),\n",
       " Document(metadata={'source': 'data\\\\Medical_book.pdf'}, page_content='Introduction.................................................... ix\\nAdvisory Board.............................................. xi\\nContributors ................................................. xiii\\nEntries\\nVolume 1: A-B.............................................. 1\\nVolume 2: C-F.......................................... 625\\nVolume 3: G-M....................................... 1375\\nVolume 4: N-S........................................ 2307\\nVolume 5: T-Z........................................ 3237\\nOrganizations ............................................ 3603\\nGeneral Index............................................ 3625\\nGALE ENCYCLOPEDIA OF MEDICINE 2 V\\nCONTENTS')]"
      ]
     },
     "execution_count": 12,
     "metadata": {},
     "output_type": "execute_result"
    }
   ],
   "source": [
    "final_docs[:5]"
   ]
  },
  {
   "cell_type": "markdown",
   "id": "dd97765a",
   "metadata": {},
   "source": [
    "## Split documents into smaller chunks"
   ]
  },
  {
   "cell_type": "code",
   "execution_count": 13,
   "id": "64a50645",
   "metadata": {},
   "outputs": [
    {
     "name": "stdout",
     "output_type": "stream",
     "text": [
      "Number of chunks: 5961\n"
     ]
    }
   ],
   "source": [
    "from langchain.text_splitter import RecursiveCharacterTextSplitter\n",
    "\n",
    "def split_text_for_contextual_integrity(docs, chunk_size=500, chunk_overlap=50):\n",
    "    \"\"\"\n",
    "    Split documents into chunks that preserve natural and semantic boundaries.\n",
    "\n",
    "    Parameters:\n",
    "        docs (List[Document]): Input documents to chunk.\n",
    "        chunk_size (int): Approximate maximum characters per chunk.\n",
    "        chunk_overlap (int): Desired overlap between adjacent chunks.\n",
    "\n",
    "    Returns:\n",
    "        List[Document]: Chunked documents maintaining context and coherence.\n",
    "    \"\"\"\n",
    "    splitter = RecursiveCharacterTextSplitter(\n",
    "        chunk_size=chunk_size,\n",
    "        chunk_overlap=chunk_overlap,\n",
    "        separators=[\"\\n\\n\", \"\\n\", \". \", \" \"],  # Prefer paragraphs, then sentences\n",
    "        length_function=len\n",
    "    )\n",
    "    return splitter.split_documents(docs)\n",
    "\n",
    "texts_chunk = split_text_for_contextual_integrity(final_docs)\n",
    "print(f\"Number of chunks: {len(texts_chunk)}\")"
   ]
  },
  {
   "cell_type": "code",
   "execution_count": 14,
   "id": "f114ac6d",
   "metadata": {},
   "outputs": [
    {
     "data": {
      "text/plain": [
       "[Document(metadata={'source': 'data\\\\Medical_book.pdf'}, page_content='The GALE\\nENCYCLOPEDIA\\nof MEDICINE\\nSECOND EDITION'),\n",
       " Document(metadata={'source': 'data\\\\Medical_book.pdf'}, page_content='The GALE\\nENCYCLOPEDIA\\nof MEDICINE\\nSECOND EDITION\\nJACQUELINE L. LONGE, EDITOR\\nDEIRDRE S. BLANCHFIELD, ASSOCIATE EDITOR\\nVOLUME\\nA-B\\n1'),\n",
       " Document(metadata={'source': 'data\\\\Medical_book.pdf'}, page_content='STAFF\\nJacqueline L. Longe, Project Editor\\nDeirdre S. Blanchfield, Associate Editor\\nChristine B. Jeryan, Managing Editor\\nDonna Olendorf, Senior Editor\\nStacey Blachford, Associate Editor\\nKate Kretschmann, Melissa C. McDade, Ryan\\nThomason, Assistant Editors\\nMark Springer, Technical Specialist\\nAndrea Lopeman, Programmer/Analyst\\nBarbara J. Yarrow,Manager, Imaging and Multimedia\\nContent\\nRobyn V . Young,Project Manager, Imaging and\\nMultimedia Content\\nDean Dauphinais, Senior Editor, Imaging and'),\n",
       " Document(metadata={'source': 'data\\\\Medical_book.pdf'}, page_content='Dean Dauphinais, Senior Editor, Imaging and\\nMultimedia Content\\nKelly A. Quin, Editor, Imaging and Multimedia Content\\nLeitha Etheridge-Sims, Mary K. Grimes, Dave Oblender,\\nImage Catalogers\\nPamela A. Reed, Imaging Coordinator\\nRandy Bassett, Imaging Supervisor\\nRobert Duncan, Senior Imaging Specialist\\nDan Newell, Imaging Specialist\\nChristine O’Bryan,Graphic Specialist\\nMaria Franklin, Permissions Manager\\nMargaret A. Chamberlain, Permissions Specialist\\nMichelle DiMercurio, Senior Art Director'),\n",
       " Document(metadata={'source': 'data\\\\Medical_book.pdf'}, page_content='Michelle DiMercurio, Senior Art Director\\nMike Logusz, Graphic Artist\\nMary Beth Trimper,Manager, Composition and\\nElectronic Prepress\\nEvi Seoud, Assistant Manager, Composition Purchasing\\nand Electronic Prepress\\nDorothy Maki, Manufacturing Manager\\nWendy Blurton, Senior Manufacturing Specialist\\nThe GALE\\nENCYCLOPEDIA\\nof MEDICINE\\nSECOND EDITION\\nSince this page cannot legibly accommodate all copyright notices, the\\nacknowledgments constitute an extension of the copyright notice.')]"
      ]
     },
     "execution_count": 14,
     "metadata": {},
     "output_type": "execute_result"
    }
   ],
   "source": [
    "texts_chunk[:5]"
   ]
  },
  {
   "cell_type": "markdown",
   "id": "d0893628",
   "metadata": {},
   "source": [
    "## Convert text into numbers"
   ]
  },
  {
   "cell_type": "code",
   "execution_count": 16,
   "id": "e4591412",
   "metadata": {},
   "outputs": [],
   "source": [
    "from langchain_huggingface import HuggingFaceEmbeddings\n",
    "\n",
    "def download_embeddings():\n",
    "    \"\"\"\n",
    "    Download and return the HuggingFace embeddings model.\n",
    "    \"\"\"\n",
    "    model_name = \"sentence-transformers/all-MiniLM-L6-v2\"\n",
    "    embeddings = HuggingFaceEmbeddings(\n",
    "        model_name=model_name\n",
    "    )\n",
    "    return embeddings\n",
    "\n",
    "embedding = download_embeddings()"
   ]
  },
  {
   "cell_type": "code",
   "execution_count": 17,
   "id": "1cb4cf51",
   "metadata": {},
   "outputs": [
    {
     "data": {
      "text/plain": [
       "HuggingFaceEmbeddings(model_name='sentence-transformers/all-MiniLM-L6-v2', cache_folder=None, model_kwargs={}, encode_kwargs={}, query_encode_kwargs={}, multi_process=False, show_progress=False)"
      ]
     },
     "execution_count": 17,
     "metadata": {},
     "output_type": "execute_result"
    }
   ],
   "source": [
    "embedding"
   ]
  },
  {
   "cell_type": "code",
   "execution_count": 18,
   "id": "dcdc415f",
   "metadata": {},
   "outputs": [
    {
     "data": {
      "text/plain": [
       "[-0.06482984125614166,\n",
       " 0.11154395341873169,\n",
       " -0.00091736507602036,\n",
       " -0.03589130565524101,\n",
       " -0.06904588639736176,\n",
       " -0.045476965606212616,\n",
       " 0.08817790448665619,\n",
       " 0.026484442874789238,\n",
       " 0.023921702057123184,\n",
       " -0.025976283475756645,\n",
       " -0.005206645466387272,\n",
       " -0.07646573334932327,\n",
       " -0.057570118457078934,\n",
       " 0.016241298988461494,\n",
       " 0.08806014060974121,\n",
       " 0.006659925449639559,\n",
       " 0.023945655673742294,\n",
       " -0.021001791581511497,\n",
       " -0.07895506918430328,\n",
       " -0.03616916388273239,\n",
       " -0.10024937242269516,\n",
       " 0.052485521882772446,\n",
       " -0.0008634036057628691,\n",
       " -0.0078034778125584126,\n",
       " -0.0715513527393341,\n",
       " 0.022869523614645004,\n",
       " -0.020361434668302536,\n",
       " -0.05919976159930229,\n",
       " -0.00746839540079236,\n",
       " 0.09555705636739731,\n",
       " -0.016858434304594994,\n",
       " 0.003539272816851735,\n",
       " 0.06853163242340088,\n",
       " -0.09603849798440933,\n",
       " -0.028074707835912704,\n",
       " 0.01716211624443531,\n",
       " -0.0027027626056224108,\n",
       " -0.04143024608492851,\n",
       " 0.053926486521959305,\n",
       " 0.04891061782836914,\n",
       " -0.03499503433704376,\n",
       " -0.036885879933834076,\n",
       " -0.004890583921223879,\n",
       " -0.020366573706269264,\n",
       " 0.05122632160782814,\n",
       " -0.0014388125855475664,\n",
       " 0.047298505902290344,\n",
       " 0.02913724258542061,\n",
       " 0.0049755326472222805,\n",
       " 0.03512641787528992,\n",
       " -0.03363437578082085,\n",
       " -0.011812456883490086,\n",
       " 0.03633294254541397,\n",
       " 0.04660852998495102,\n",
       " 0.04011134058237076,\n",
       " -0.03487890213727951,\n",
       " -0.05374915152788162,\n",
       " 0.009815813973546028,\n",
       " 0.07726225256919861,\n",
       " -0.0002702017955016345,\n",
       " -0.06898283213376999,\n",
       " 0.04531445354223251,\n",
       " -0.01356325950473547,\n",
       " 0.044408176094293594,\n",
       " 0.08239039778709412,\n",
       " -0.019668791443109512,\n",
       " -0.014798247255384922,\n",
       " -0.03303828090429306,\n",
       " 0.012724261730909348,\n",
       " 0.008075646124780178,\n",
       " 0.025403598323464394,\n",
       " 0.028657283633947372,\n",
       " -0.04177209734916687,\n",
       " 0.09723598510026932,\n",
       " 0.021635156124830246,\n",
       " 0.019407400861382484,\n",
       " 0.045024190098047256,\n",
       " -0.059604711830616,\n",
       " 0.09936392307281494,\n",
       " 0.05412006750702858,\n",
       " -0.08772248029708862,\n",
       " -0.058375004678964615,\n",
       " -0.008345186710357666,\n",
       " -0.013236217200756073,\n",
       " -0.062069475650787354,\n",
       " -0.015574111603200436,\n",
       " 0.11485639959573746,\n",
       " -0.01549630519002676,\n",
       " -0.15834955871105194,\n",
       " 0.06278906762599945,\n",
       " -0.03407891467213631,\n",
       " 0.060919370502233505,\n",
       " 0.04598015919327736,\n",
       " 0.02393423579633236,\n",
       " 0.023492712527513504,\n",
       " -0.024551935493946075,\n",
       " -0.03839566558599472,\n",
       " -0.03495218604803085,\n",
       " -0.053196489810943604,\n",
       " 0.13895532488822937,\n",
       " 0.04879305139183998,\n",
       " 0.0047518908977508545,\n",
       " 0.04868130385875702,\n",
       " 0.07578401267528534,\n",
       " -0.03587633743882179,\n",
       " -0.04245424270629883,\n",
       " -0.021637937054038048,\n",
       " 0.0354284942150116,\n",
       " 0.015088370069861412,\n",
       " -0.02167767472565174,\n",
       " 0.004625031258910894,\n",
       " -0.039560675621032715,\n",
       " -0.038577672094106674,\n",
       " 0.05028698965907097,\n",
       " -0.003216884797438979,\n",
       " -0.038573265075683594,\n",
       " 0.03680998086929321,\n",
       " 0.039237938821315765,\n",
       " 0.03601331636309624,\n",
       " -0.026143165305256844,\n",
       " -0.018724512308835983,\n",
       " 0.03876044973731041,\n",
       " -0.03563974052667618,\n",
       " 0.039377812296152115,\n",
       " 0.029645858332514763,\n",
       " -0.12154786288738251,\n",
       " -0.02639312855899334,\n",
       " -6.332096398343865e-33,\n",
       " 0.012868184596300125,\n",
       " -0.037846889346838,\n",
       " 0.05095718428492546,\n",
       " 0.035743992775678635,\n",
       " -0.03072468936443329,\n",
       " 0.014985106885433197,\n",
       " 0.07128199934959412,\n",
       " -0.03538854047656059,\n",
       " -0.001365295727737248,\n",
       " -0.044214364141225815,\n",
       " -0.04988409951329231,\n",
       " -0.07794294506311417,\n",
       " -0.12295705825090408,\n",
       " -0.0033217230811715126,\n",
       " 0.06872119754552841,\n",
       " 0.06894392520189285,\n",
       " 0.05410873517394066,\n",
       " -0.017422741279006004,\n",
       " 0.06442277878522873,\n",
       " 0.05007130280137062,\n",
       " -0.04725551977753639,\n",
       " -0.032816700637340546,\n",
       " 0.0267272237688303,\n",
       " 0.0017782114446163177,\n",
       " -0.009060490876436234,\n",
       " -0.0580458901822567,\n",
       " -0.03159482404589653,\n",
       " -0.05322578549385071,\n",
       " -0.009287772700190544,\n",
       " 0.009851200506091118,\n",
       " 0.040427472442388535,\n",
       " 0.09839268028736115,\n",
       " -0.012706061825156212,\n",
       " -0.007411171216517687,\n",
       " -0.05909200385212898,\n",
       " -0.06377339363098145,\n",
       " 0.07745407521724701,\n",
       " 0.024991946294903755,\n",
       " -0.014596239663660526,\n",
       " 0.028271272778511047,\n",
       " -0.04124510660767555,\n",
       " -0.0866808295249939,\n",
       " -0.12442591041326523,\n",
       " 0.002808853518217802,\n",
       " 0.06545218825340271,\n",
       " 0.036683883517980576,\n",
       " 0.04930797964334488,\n",
       " -0.004940262529999018,\n",
       " -0.04712117835879326,\n",
       " -0.11751362681388855,\n",
       " 0.001897598383948207,\n",
       " 0.0034146110992878675,\n",
       " -0.039866019040346146,\n",
       " -0.060166776180267334,\n",
       " 0.031148221343755722,\n",
       " -0.05611155182123184,\n",
       " 0.06452512741088867,\n",
       " 0.0883336141705513,\n",
       " -0.07789774239063263,\n",
       " -0.01229740958660841,\n",
       " 0.0495796836912632,\n",
       " 0.015996409580111504,\n",
       " -0.017510132864117622,\n",
       " 0.018769901245832443,\n",
       " -0.19219069182872772,\n",
       " 0.0023034620098769665,\n",
       " 0.06283432245254517,\n",
       " 0.04521755129098892,\n",
       " 0.05533679574728012,\n",
       " -0.07778661698102951,\n",
       " 0.0005726414965465665,\n",
       " -0.04228050634264946,\n",
       " -0.023581217974424362,\n",
       " 0.015402737073600292,\n",
       " 0.029432028532028198,\n",
       " -0.01301941554993391,\n",
       " -0.02798348106443882,\n",
       " 0.03588119149208069,\n",
       " -0.06104666739702225,\n",
       " -0.013590347953140736,\n",
       " -0.007138994988054037,\n",
       " 0.0531034842133522,\n",
       " -0.01922539621591568,\n",
       " -0.027146389707922935,\n",
       " 0.08259089291095734,\n",
       " -0.05069172382354736,\n",
       " -0.03270764648914337,\n",
       " -0.02276133932173252,\n",
       " 0.09499512612819672,\n",
       " -0.03190232813358307,\n",
       " -0.03782247379422188,\n",
       " 0.015197900123894215,\n",
       " -0.006860431283712387,\n",
       " -0.047146424651145935,\n",
       " -0.018551308661699295,\n",
       " 3.674748522278062e-33,\n",
       " 0.024096043780446053,\n",
       " 0.0882280245423317,\n",
       " -0.052260249853134155,\n",
       " -0.008486279286444187,\n",
       " -0.02063228189945221,\n",
       " -0.0067129116505384445,\n",
       " 0.07366351038217545,\n",
       " 0.05372440442442894,\n",
       " -0.05223296955227852,\n",
       " 0.09573087096214294,\n",
       " -0.04080262780189514,\n",
       " -0.0037404075264930725,\n",
       " 0.031625159084796906,\n",
       " -0.10557794570922852,\n",
       " 0.08952825516462326,\n",
       " 0.014766011387109756,\n",
       " 0.0400380939245224,\n",
       " 0.05984370410442352,\n",
       " -0.03490744158625603,\n",
       " 0.01957141049206257,\n",
       " -0.014001207426190376,\n",
       " 0.048262741416692734,\n",
       " -0.0340631864964962,\n",
       " 0.005301505792886019,\n",
       " -0.02339966781437397,\n",
       " -0.09397372603416443,\n",
       " 0.06720423698425293,\n",
       " -0.05158201977610588,\n",
       " 0.011532735079526901,\n",
       " 0.026898495852947235,\n",
       " 0.05122758448123932,\n",
       " -0.03604545071721077,\n",
       " -0.11364830285310745,\n",
       " 0.031000323593616486,\n",
       " -0.009588885121047497,\n",
       " 0.007087805308401585,\n",
       " 0.03040306083858013,\n",
       " -0.0643891915678978,\n",
       " 0.002824386116117239,\n",
       " -0.00149542058352381,\n",
       " 0.0157338697463274,\n",
       " -0.01663406752049923,\n",
       " 0.008253119885921478,\n",
       " 0.09525096416473389,\n",
       " 0.033194251358509064,\n",
       " -0.026202892884612083,\n",
       " 0.02978556789457798,\n",
       " 0.06226733326911926,\n",
       " -0.03851671516895294,\n",
       " 0.023772694170475006,\n",
       " -0.08317229896783829,\n",
       " -0.006420735735446215,\n",
       " 0.029243549332022667,\n",
       " -0.08638890832662582,\n",
       " -0.009954136796295643,\n",
       " 0.05147026106715202,\n",
       " 0.09143136441707611,\n",
       " -0.02773929387331009,\n",
       " 0.0047487798146903515,\n",
       " 0.078517384827137,\n",
       " 0.008619258180260658,\n",
       " 0.016885224729776382,\n",
       " -0.11943591386079788,\n",
       " 0.03567955642938614,\n",
       " 0.02362847328186035,\n",
       " 0.017838092520833015,\n",
       " -0.06488961726427078,\n",
       " -0.008792750537395477,\n",
       " -0.03212079033255577,\n",
       " -0.019638262689113617,\n",
       " 0.06156755983829498,\n",
       " 0.06119018420577049,\n",
       " 0.022183919325470924,\n",
       " 0.03332698345184326,\n",
       " -0.04729396849870682,\n",
       " -0.12536035478115082,\n",
       " -0.02360529452562332,\n",
       " 0.02321600914001465,\n",
       " -0.006386747118085623,\n",
       " -0.040663134306669235,\n",
       " 0.02612735889852047,\n",
       " -0.0016441282350569963,\n",
       " 0.0656924843788147,\n",
       " 0.010337462648749352,\n",
       " -0.03974396735429764,\n",
       " -0.019888892769813538,\n",
       " 0.014324184507131577,\n",
       " -0.004457076545804739,\n",
       " -0.004916445817798376,\n",
       " -0.022714871913194656,\n",
       " 0.00015074927068781108,\n",
       " 0.003910289611667395,\n",
       " -0.024097399786114693,\n",
       " -0.03048216737806797,\n",
       " -0.008963823318481445,\n",
       " -1.663998183687454e-08,\n",
       " 0.015893425792455673,\n",
       " 0.020408673211932182,\n",
       " 0.06593400239944458,\n",
       " 0.05136588588356972,\n",
       " -0.019457008689641953,\n",
       " 0.14320281147956848,\n",
       " 0.020812807604670525,\n",
       " -0.051657550036907196,\n",
       " -0.02402457781136036,\n",
       " -0.05822475999593735,\n",
       " -0.0004476093454286456,\n",
       " 0.025265825912356377,\n",
       " 0.001980840228497982,\n",
       " -0.03394491970539093,\n",
       " 0.08858056366443634,\n",
       " -0.08372911810874939,\n",
       " 0.047220680862665176,\n",
       " -0.07887518405914307,\n",
       " 0.026549169793725014,\n",
       " 0.021546615287661552,\n",
       " 0.016719717532396317,\n",
       " -0.02119000069797039,\n",
       " -0.04701036959886551,\n",
       " 0.026298755779862404,\n",
       " 0.026763875037431717,\n",
       " 0.007190272212028503,\n",
       " -0.03030891716480255,\n",
       " 0.06436939537525177,\n",
       " -0.04479129984974861,\n",
       " 0.05132456496357918,\n",
       " 0.01816187985241413,\n",
       " 0.030172718688845634,\n",
       " -0.05364866182208061,\n",
       " -0.008763913065195084,\n",
       " 0.011740812100470066,\n",
       " 0.003002792363986373,\n",
       " 0.04727260395884514,\n",
       " -0.009176697582006454,\n",
       " 0.0657472088932991,\n",
       " -0.02984151616692543,\n",
       " 0.05397637188434601,\n",
       " 0.040985170751810074,\n",
       " 0.035635095089673996,\n",
       " 0.02771756611764431,\n",
       " -0.09716811031103134,\n",
       " 0.10702843219041824,\n",
       " 0.03177333623170853,\n",
       " 0.045978352427482605,\n",
       " 0.02321593649685383,\n",
       " 0.08005782216787338,\n",
       " 0.046574581414461136,\n",
       " -0.006598396226763725,\n",
       " 0.10763277858495712,\n",
       " 0.06791342794895172,\n",
       " 0.04861019179224968,\n",
       " -0.04354746267199516,\n",
       " -0.029528992250561714,\n",
       " 0.011946591548621655,\n",
       " 0.03162336349487305,\n",
       " 0.017449617385864258,\n",
       " 0.1253766566514969,\n",
       " 0.004339073318988085,\n",
       " -0.008174367249011993,\n",
       " -0.13349221646785736]"
      ]
     },
     "execution_count": 18,
     "metadata": {},
     "output_type": "execute_result"
    }
   ],
   "source": [
    "# lets test the embedding\n",
    "text_number = embedding.embed_query(\"I am a boy\")\n",
    "text_number"
   ]
  },
  {
   "cell_type": "code",
   "execution_count": 19,
   "id": "3b9c63c1",
   "metadata": {},
   "outputs": [
    {
     "name": "stdout",
     "output_type": "stream",
     "text": [
      "Length of the vector :  384\n"
     ]
    }
   ],
   "source": [
    "print(\"Length of the vector : \",len(text_number))"
   ]
  },
  {
   "cell_type": "markdown",
   "id": "70684a97",
   "metadata": {},
   "source": [
    "## Create VectorDB (Pinecone)"
   ]
  },
  {
   "cell_type": "code",
   "execution_count": 36,
   "id": "47844fbd",
   "metadata": {},
   "outputs": [
    {
     "data": {
      "text/plain": [
       "True"
      ]
     },
     "execution_count": 36,
     "metadata": {},
     "output_type": "execute_result"
    }
   ],
   "source": [
    "from dotenv import load_dotenv\n",
    "load_dotenv()"
   ]
  },
  {
   "cell_type": "code",
   "execution_count": 37,
   "id": "2e3873c4",
   "metadata": {},
   "outputs": [],
   "source": [
    "PINECONE_API_KEY = os.getenv(\"PINECONE_API_KEY\")\n",
    "GOOGLE_API_KEY = os.getenv(\"GOOGLE_API_KEY\")\n",
    "\n",
    "\n",
    "os.environ[\"PINECONE_API_KEY\"] = PINECONE_API_KEY\n",
    "os.environ[\"GOOGLE_API_KEY\"] = GOOGLE_API_KEY"
   ]
  },
  {
   "cell_type": "code",
   "execution_count": 23,
   "id": "b7c2b99f",
   "metadata": {},
   "outputs": [],
   "source": [
    "from pinecone import Pinecone\n",
    "pinecone_api_key = os.environ.get(\"PINECONE_API_KEY\")\n",
    "if not pinecone_api_key:\n",
    "    raise ValueError(\"Environment variable 'PINECONE_API_KEY' is not set\")\n",
    "\n",
    "# 2. Initialize Pinecone client using the environment variable\n",
    "pc = Pinecone(api_key=pinecone_api_key)"
   ]
  },
  {
   "cell_type": "code",
   "execution_count": 24,
   "id": "77017067",
   "metadata": {},
   "outputs": [
    {
     "data": {
      "text/plain": [
       "<pinecone.pinecone.Pinecone at 0x287673992d0>"
      ]
     },
     "execution_count": 24,
     "metadata": {},
     "output_type": "execute_result"
    }
   ],
   "source": [
    "pc"
   ]
  },
  {
   "cell_type": "code",
   "execution_count": 25,
   "id": "5757c955",
   "metadata": {},
   "outputs": [],
   "source": [
    "from pinecone import (\n",
    "    ServerlessSpec,\n",
    "    CloudProvider,\n",
    "    AwsRegion,\n",
    "    Metric,\n",
    "    VectorType,\n",
    "    DeletionProtection\n",
    ")\n",
    "\n",
    "index_name = \"medical-assistant\"\n",
    "\n",
    "if not pc.has_index(index_name):\n",
    "    pc.create_index(\n",
    "        name=index_name,\n",
    "        dimension=384,\n",
    "        metric=Metric.COSINE,\n",
    "        vector_type=VectorType.DENSE,\n",
    "        spec=ServerlessSpec(\n",
    "            cloud=CloudProvider.AWS,\n",
    "            region=AwsRegion.US_EAST_1\n",
    "        ),\n",
    "        deletion_protection=DeletionProtection.DISABLED,\n",
    "        tags={\n",
    "            \"purpose\": \"medical-assistant\"\n",
    "        }\n",
    "    )\n",
    "index = pc.Index(index_name)"
   ]
  },
  {
   "cell_type": "code",
   "execution_count": 26,
   "id": "04b5805b",
   "metadata": {},
   "outputs": [],
   "source": [
    "from langchain_pinecone import PineconeVectorStore\n",
    "\n",
    "docsearch = PineconeVectorStore.from_documents(\n",
    "    documents=texts_chunk,\n",
    "    embedding=embedding,\n",
    "    index_name=index_name\n",
    ")"
   ]
  },
  {
   "cell_type": "code",
   "execution_count": 28,
   "id": "18350ea2",
   "metadata": {},
   "outputs": [],
   "source": [
    "# Load Existing index \n",
    "docsearch = PineconeVectorStore.from_existing_index(\n",
    "    index_name=index_name,\n",
    "    embedding=embedding\n",
    ")"
   ]
  },
  {
   "cell_type": "markdown",
   "id": "ace9baf8",
   "metadata": {},
   "source": [
    "## Add more data to the existing Pinecone index"
   ]
  },
  {
   "cell_type": "code",
   "execution_count": 29,
   "id": "deb8928a",
   "metadata": {},
   "outputs": [],
   "source": [
    "new_data = Document(\n",
    "    page_content=\"Pinecone is used in this Medical assistant system...\",\n",
    "    metadata={\"source\": \"external\"}\n",
    ")"
   ]
  },
  {
   "cell_type": "code",
   "execution_count": 30,
   "id": "1fffb40a",
   "metadata": {},
   "outputs": [
    {
     "data": {
      "text/plain": [
       "['a4dcfa6b-ed1f-448a-b39a-d2f7dfccf5b2']"
      ]
     },
     "execution_count": 30,
     "metadata": {},
     "output_type": "execute_result"
    }
   ],
   "source": [
    "docsearch.add_documents(documents=[new_data])"
   ]
  },
  {
   "cell_type": "code",
   "execution_count": 31,
   "id": "8fd58d93",
   "metadata": {},
   "outputs": [],
   "source": [
    "# create retriver\n",
    "retriever = docsearch.as_retriever(search_type=\"similarity\", search_kwargs={\"k\":3})"
   ]
  },
  {
   "cell_type": "code",
   "execution_count": 32,
   "id": "769ff90a",
   "metadata": {},
   "outputs": [
    {
     "data": {
      "text/plain": [
       "[Document(id='ae840f08-caa7-4186-b2fb-599f7702ccb3', metadata={'source': 'data\\\\Medical_book.pdf'}, page_content='Nancy J. Nordenson\\nAcid reflux see Heartburn\\nAcidosis see Respiratory acidosis; Renal\\ntubular acidosis; Metabolic acidosis\\nAcne\\nDefinition\\nAcne is a common skin disease characterized by\\npimples on the face, chest, and back. It occurs when the\\npores of the skin become clogged with oil, dead skin\\ncells, and bacteria.\\nDescription\\nAcne vulgaris, the medical term for common acne, is\\nthe most common skin disease. It affects nearly 17 million\\npeople in the United States. While acne can arise at any'),\n",
       " Document(id='0226255e-835a-4477-8a55-56d98786c111', metadata={'source': 'data\\\\Medical_book.pdf'}, page_content='used to clear up mild to moderately severe acne.\\nIsotretinoin (Accutane) is prescribed only for very\\nsevere, disfiguring acne.\\nAcne is a skin condition that occurs when pores or\\nhair follicles become blocked. This allows a waxy\\nmaterial, sebum, to collect inside the pores or follicles.\\nNormally, sebum flows out onto the skin and hair to\\nform a protective coating, but when it cannot get out,\\nsmall swellings develop on the skin surface. Bacteria\\nand dead skin cells can also collect that can cause'),\n",
       " Document(id='38a97849-859d-4016-8ce8-d4aef30bcb05', metadata={'source': 'data\\\\Medical_book.pdf'}, page_content='dead skin cells. The mildest type of acne.\\nComedolytic —Drugs that break up comedones\\nand open clogged pores.\\nCorticosteroids —A group of hormones produced\\nby the adrenal glands with different functions,\\nincluding regulation of fluid balance, androgen\\nactivity, and reaction to inflammation.\\nEstrogens —Hormones produced by the ovaries,\\nthe female sex glands.\\nIsotretinoin —A drug that decreases sebum pro-\\nduction and dries up acne pimples.\\nSebaceous follicles —A structure found within the')]"
      ]
     },
     "execution_count": 32,
     "metadata": {},
     "output_type": "execute_result"
    }
   ],
   "source": [
    "retrieved_docs = retriever.invoke(\"What is Acne?\")\n",
    "retrieved_docs"
   ]
  },
  {
   "cell_type": "code",
   "execution_count": 38,
   "id": "6c55bb11",
   "metadata": {},
   "outputs": [],
   "source": [
    "from langchain_google_genai import ChatGoogleGenerativeAI\n",
    "llm = ChatGoogleGenerativeAI(\n",
    "    model=\"gemini-2.5-flash\",  # or \"gemini-2.5-pro\", or other model IDs\n",
    "    temperature=0.7,\n",
    "    max_tokens=None,\n",
    "    timeout=None,\n",
    "    max_retries=2\n",
    ")\n"
   ]
  },
  {
   "cell_type": "markdown",
   "id": "157c21bb",
   "metadata": {},
   "source": [
    "## Create RAG Chain"
   ]
  },
  {
   "cell_type": "code",
   "execution_count": 39,
   "id": "f6d060b1",
   "metadata": {},
   "outputs": [],
   "source": [
    "from langchain.chains import create_retrieval_chain\n",
    "from langchain.chains.combine_documents import create_stuff_documents_chain\n",
    "from langchain_core.prompts import ChatPromptTemplate"
   ]
  },
  {
   "cell_type": "code",
   "execution_count": 40,
   "id": "d6f5c1d4",
   "metadata": {},
   "outputs": [],
   "source": [
    "system_prompt = (\n",
    "    \"You are a medical assistant designed to answer questions accurately and concisely. \"\n",
    "    \"Use the provided context to generate your response. \"\n",
    "    \"If the answer is not contained within the context, say you don't know. \"\n",
    "    \"Limit your response to a maximum of three sentences.\"\n",
    "    \"\\n\\n\"\n",
    "    \"{context}\"\n",
    ")\n",
    "prompt = ChatPromptTemplate.from_messages(\n",
    "    [\n",
    "        (\"system\", system_prompt),\n",
    "        (\"human\", \"{input}\"),\n",
    "    ]\n",
    ")"
   ]
  },
  {
   "cell_type": "code",
   "execution_count": 41,
   "id": "9a4679fb",
   "metadata": {},
   "outputs": [],
   "source": [
    "question_answer_chain = create_stuff_documents_chain(llm, prompt)\n",
    "rag_chain = create_retrieval_chain(retriever, question_answer_chain)"
   ]
  },
  {
   "cell_type": "code",
   "execution_count": 42,
   "id": "b11c5da9",
   "metadata": {},
   "outputs": [
    {
     "name": "stdout",
     "output_type": "stream",
     "text": [
      "Acromegaly is a disorder where the pituitary gland in the brain abnormally releases a chemical, leading to increased growth in bone and soft tissue and other bodily disturbances. The provided text defines acromegaly but does not define gigantism.\n"
     ]
    }
   ],
   "source": [
    "response = rag_chain.invoke({\"input\": \"what is Acromegaly and gigantism?\"})\n",
    "print(response[\"answer\"])"
   ]
  },
  {
   "cell_type": "code",
   "execution_count": 43,
   "id": "df828c65",
   "metadata": {},
   "outputs": [
    {
     "name": "stdout",
     "output_type": "stream",
     "text": [
      "Pinecone is used in this Medical assistant system.\n"
     ]
    }
   ],
   "source": [
    "response = rag_chain.invoke({\"input\": \"what is used in the system?\"})\n",
    "print(response[\"answer\"])"
   ]
  },
  {
   "cell_type": "code",
   "execution_count": 44,
   "id": "4d40c89e",
   "metadata": {},
   "outputs": [
    {
     "name": "stdout",
     "output_type": "stream",
     "text": [
      "Treatment for mild noninflammatory acne involves reducing new comedones with topical drugs like tretinoin, benzoyl peroxide, adapalene, or salicylic acid. For inflammatory acne, topical antibiotics may be added, and intralesional corticosteroid injections can treat inflamed pimples. Alternative treatments focus on proper cleansing, a well-balanced diet, and avoiding certain foods and substances.\n"
     ]
    }
   ],
   "source": [
    "response = rag_chain.invoke({\"input\": \"what is the Treatment of Acne?\"})\n",
    "print(response[\"answer\"])"
   ]
  },
  {
   "cell_type": "code",
   "execution_count": null,
   "id": "4be72fac",
   "metadata": {},
   "outputs": [],
   "source": []
  }
 ],
 "metadata": {
  "kernelspec": {
   "display_name": "rough-work",
   "language": "python",
   "name": "python3"
  },
  "language_info": {
   "codemirror_mode": {
    "name": "ipython",
    "version": 3
   },
   "file_extension": ".py",
   "mimetype": "text/x-python",
   "name": "python",
   "nbconvert_exporter": "python",
   "pygments_lexer": "ipython3",
   "version": "3.11.13"
  }
 },
 "nbformat": 4,
 "nbformat_minor": 5
}
